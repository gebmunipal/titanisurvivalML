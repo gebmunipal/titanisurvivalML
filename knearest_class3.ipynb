{
  "cells": [
    {
      "metadata": {
        "_uuid": "fb2121bfa476074f4977d84a5c37e1115873f7a9"
      },
      "cell_type": "markdown",
      "source": "This notebook shows in a simple way a quick process to train a ML model and submit the predictions it generates.\n"
    },
    {
      "metadata": {
        "_uuid": "8f2839f25d086af736a60e9eeb907d3b93b6e0e5",
        "_cell_guid": "b1076dfc-b9ad-4769-8c92-a6c4dae69d19",
        "trusted": true,
        "_kg_hide-output": false,
        "collapsed": true
      },
      "cell_type": "code",
      "source": "# Import the usual libraries\nimport pandas as pd\nimport numpy as np\nimport graphviz as gv\nimport matplotlib.pyplot as plt\n%matplotlib inline\nprint(pd.__version__, np.__version__, gv.__version__)",
      "execution_count": 1,
      "outputs": []
    },
    {
      "metadata": {
        "_cell_guid": "79c7e3d0-c299-4dcb-8224-4455121ee9b0",
        "collapsed": true,
        "_uuid": "d629ff2d2480ee46fbb7e2d37f6b5fab8052498a",
        "trusted": false
      },
      "cell_type": "markdown",
      "source": "We will load both train and test data (actually evaluation data), and concat them to work on both at the same time. Just notice that the test data has the _Survived_ feature missing."
    },
    {
      "metadata": {
        "trusted": true,
        "_uuid": "7a88d8a66d4979e6fdb3e6bb3e990b1fae7a0907",
        "collapsed": true
      },
      "cell_type": "code",
      "source": "train_df = pd.read_csv('../input/train.csv', index_col='PassengerId')\ntest_df = pd.read_csv('../input/test.csv', index_col='PassengerId')\n\ndf = pd.concat([train_df, test_df], sort=True)",
      "execution_count": 2,
      "outputs": []
    },
    {
      "metadata": {
        "_uuid": "9b56a612499c06d9eeb39e65c901ae6a1c83e829"
      },
      "cell_type": "markdown",
      "source": "Let's see 10 random examples (if Survived is NaN, it's a one from the test/evaluation data)"
    },
    {
      "metadata": {
        "trusted": true,
        "_uuid": "e203a9904ddfbae5f45f7694ea685f410dbf15b9",
        "collapsed": true
      },
      "cell_type": "code",
      "source": "df.sample(10)",
      "execution_count": 3,
      "outputs": []
    },
    {
      "metadata": {
        "trusted": true,
        "collapsed": true,
        "_uuid": "a016f03ab2219733ea0c090d4d16d7139dfe88d2"
      },
      "cell_type": "markdown",
      "source": "You can refer to [its data dictionary](https://www.kaggle.com/c/titanic/data) to know more about these features.\n\nNotice that original features start with uppercase. We will add later new features in lowercase."
    },
    {
      "metadata": {
        "_uuid": "684e54f10dde598e68f83c93a1c6b9140d6cef7a"
      },
      "cell_type": "markdown",
      "source": "First let's see if the dataset has missing values."
    },
    {
      "metadata": {
        "trusted": true,
        "_uuid": "a8d61633abddfee08b0a0c6be8c3b347de3a64bf",
        "collapsed": true
      },
      "cell_type": "code",
      "source": "df[['Age', 'Sex']].isnull().sum()",
      "execution_count": 4,
      "outputs": []
    },
    {
      "metadata": {
        "_uuid": "524eb3995207b08452606529f26fad7d47c2edb7"
      },
      "cell_type": "markdown",
      "source": "So we do need to fill in the missing Age values of 263 examples, and no need to do this with Sex feature."
    },
    {
      "metadata": {
        "_uuid": "0eac959a8886c31a6257c53aea4a500374e4978d"
      },
      "cell_type": "markdown",
      "source": "Using pandas __.describe()__ method we can see general statistics for each feature."
    },
    {
      "metadata": {
        "trusted": true,
        "_uuid": "7f0ed71cab712ceea1930295605b00118cbbb64d",
        "collapsed": true
      },
      "cell_type": "code",
      "source": "df['Age'].describe()",
      "execution_count": 5,
      "outputs": []
    },
    {
      "metadata": {
        "trusted": true,
        "_uuid": "9bb275034cce3d9ffbddff2ba673c6a06c7da422",
        "collapsed": true
      },
      "cell_type": "code",
      "source": "# Quantity of people by given age\nmax_age = df['Age'].max()\ndf['Age'].hist(bins=int(max_age))",
      "execution_count": 6,
      "outputs": []
    },
    {
      "metadata": {
        "trusted": true,
        "_uuid": "6c35a9e1f895e5285df915bb22f3c3f1cd7ebfc3",
        "collapsed": true
      },
      "cell_type": "code",
      "source": "# Survival ratio per decade, ignoring NaN with dropna()\ndf['decade'] = df['Age'].dropna().apply(lambda x: int(x/10))\ndf[['decade', 'Survived']].groupby('decade').mean().plot()",
      "execution_count": 7,
      "outputs": []
    },
    {
      "metadata": {
        "_uuid": "d958c7744130b65fe3e730c52e4a358196b32ad9"
      },
      "cell_type": "markdown",
      "source": "The younger the passenger, the more chances of survival. There is some outsider at Age 80, however.\n\nWe need to complete missing values of Age. Let's do this using the mean value."
    },
    {
      "metadata": {
        "trusted": true,
        "collapsed": true,
        "_uuid": "3be58bd48fb1d8ab66c3ed4a85a624204201b6c9"
      },
      "cell_type": "code",
      "source": "mean_age = df['Age'].mean()\ndf['Age'] = df['Age'].fillna(mean_age)",
      "execution_count": 9,
      "outputs": []
    },
    {
      "metadata": {
        "_uuid": "a1d0070c0ff9c5218d4a391f946e9c21fc73214d"
      },
      "cell_type": "markdown",
      "source": "Sex is stored as \"male\" or \"female\", but a ML algorithm needs to get numerical values as input. So let's create a new feature \"male\"."
    },
    {
      "metadata": {
        "trusted": true,
        "_uuid": "1f49109f8afafc8040ad4cbdcfe24f1089d08413",
        "collapsed": true
      },
      "cell_type": "code",
      "source": "df['male'] = df['Sex'].map({'male': 1, 'female': 0})\ndf.sample(5)",
      "execution_count": 10,
      "outputs": []
    },
    {
      "metadata": {
        "trusted": true,
        "_uuid": "f787f4c8aec32daea026b676213951760b6c999e",
        "collapsed": true
      },
      "cell_type": "code",
      "source": "df[['male','Survived']].groupby('male').mean()",
      "execution_count": 11,
      "outputs": []
    },
    {
      "metadata": {
        "_uuid": "e847d522de97520e2643f567ce05cf52d8dd60a4"
      },
      "cell_type": "markdown",
      "source": "So 74% of females survived, while men had just a 18.9% of surviving ratio."
    },
    {
      "metadata": {
        "_uuid": "b010521cbe5f35c2760d134858389bead569927f"
      },
      "cell_type": "markdown",
      "source": "First we will prepare train examples for training the algorithm."
    },
    {
      "metadata": {
        "trusted": true,
        "_uuid": "ebba233ca66a135bd4b1f7081ef5c60036a2191a",
        "collapsed": true
      },
      "cell_type": "code",
      "source": "train = df[df['Survived'].notnull()]\n\nfeatures = ['Age', 'male']\ntrain_X = train[features]\ntrain_y = train['Survived']",
      "execution_count": 12,
      "outputs": []
    },
    {
      "metadata": {
        "_uuid": "0eefe9cea1a2183f2999e7d6278c1726f4079f84"
      },
      "cell_type": "markdown",
      "source": "Let's train a Decision Tree, which is really easy to understand."
    },
    {
      "metadata": {
        "trusted": true,
        "_uuid": "c35486a3de32cb1fb67967e91c70478b1eb9a218",
        "_kg_hide-input": true,
        "collapsed": true
      },
      "cell_type": "code",
      "source": "\nfrom sklearn.neighbors import KNeighborsClassifier\nknn = KNeighborsClassifier(n_neighbors = 3)\nknn.fit(train_X, train_y)\ntest = df[df['Survived'].isnull()]\ntest_X = test[features]\n\ntest_y = knn.predict(test_X)\nacc_knn = round(knn.score(train_X, train_y) * 100, 2)\nacc_knn\n\n",
      "execution_count": 13,
      "outputs": []
    },
    {
      "metadata": {
        "_uuid": "f15ca87bb84a408f9058043debed8b41672e3f08"
      },
      "cell_type": "markdown",
      "source": "print results"
    },
    {
      "metadata": {
        "trusted": true,
        "_uuid": "c76f40775f396e2cbd9b9aae69769076b2ef3d7e",
        "collapsed": true
      },
      "cell_type": "code",
      "source": "submit = pd.DataFrame(test_y.astype(int),\n                      index=test_X.index,\n                      columns=['Survived'])\nsubmit.head()",
      "execution_count": 14,
      "outputs": []
    },
    {
      "metadata": {
        "_uuid": "a26eeb542ecfbbbe766250f4d88ea081706df9f0"
      },
      "cell_type": "markdown",
      "source": "Let's save this predictions in a file tha kaggle will use to evaluate it."
    },
    {
      "metadata": {
        "trusted": true,
        "collapsed": true,
        "_uuid": "0958aac1c8f0166449ba9f2f11d9a6b3285571a5"
      },
      "cell_type": "code",
      "source": "submit.to_csv('smuni_knearest_submit.csv')",
      "execution_count": 15,
      "outputs": []
    }
  ],
  "metadata": {
    "kernelspec": {
      "display_name": "Python 3",
      "language": "python",
      "name": "python3"
    },
    "language_info": {
      "name": "python",
      "version": "3.6.5",
      "mimetype": "text/x-python",
      "codemirror_mode": {
        "name": "ipython",
        "version": 3
      },
      "pygments_lexer": "ipython3",
      "nbconvert_exporter": "python",
      "file_extension": ".py"
    }
  },
  "nbformat": 4,
  "nbformat_minor": 1
}